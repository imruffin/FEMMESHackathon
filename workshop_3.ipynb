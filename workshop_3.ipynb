{
  "nbformat": 4,
  "nbformat_minor": 0,
  "metadata": {
    "colab": {
      "name": "workshop_3.ipynb",
      "provenance": [],
      "toc_visible": true,
      "include_colab_link": true
    },
    "kernelspec": {
      "name": "python3",
      "display_name": "Python 3"
    }
  },
  "cells": [
    {
      "cell_type": "markdown",
      "metadata": {
        "id": "view-in-github",
        "colab_type": "text"
      },
      "source": [
        "<a href=\"https://colab.research.google.com/github/imruffin/FEMMESHackathon/blob/master/workshop_3.ipynb\" target=\"_parent\"><img src=\"https://colab.research.google.com/assets/colab-badge.svg\" alt=\"Open In Colab\"/></a>"
      ]
    },
    {
      "cell_type": "markdown",
      "metadata": {
        "id": "aZxqwOueW-Zm",
        "colab_type": "text"
      },
      "source": [
        "# Don't forget to save this notebook to your personal account!"
      ]
    },
    {
      "cell_type": "markdown",
      "metadata": {
        "id": "_Opf_FDOXtmv",
        "colab_type": "text"
      },
      "source": [
        "This workshop has much less structure than the previous two. This is intentional so you can develop the very important ability to google and look through library documentation to keep learning how to code on your own."
      ]
    },
    {
      "cell_type": "markdown",
      "metadata": {
        "id": "BsmHlXQtXHEW",
        "colab_type": "text"
      },
      "source": [
        "# Editing Image Pixels\n",
        "\n",
        "We will use the Image library within the larger Python Imaging Library, called PIL."
      ]
    },
    {
      "cell_type": "code",
      "metadata": {
        "id": "YHdE3IIOWLg-",
        "colab_type": "code",
        "colab": {}
      },
      "source": [
        "from PIL import Image"
      ],
      "execution_count": 0,
      "outputs": []
    },
    {
      "cell_type": "code",
      "metadata": {
        "id": "8XzbJemBYaS3",
        "colab_type": "code",
        "colab": {}
      },
      "source": [
        ""
      ],
      "execution_count": 0,
      "outputs": []
    }
  ]
}
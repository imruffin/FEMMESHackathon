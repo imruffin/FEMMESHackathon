{
  "nbformat": 4,
  "nbformat_minor": 0,
  "metadata": {
    "colab": {
      "name": "workshop_2.ipynb",
      "provenance": [],
      "include_colab_link": true
    },
    "kernelspec": {
      "name": "python3",
      "display_name": "Python 3"
    }
  },
  "cells": [
    {
      "cell_type": "markdown",
      "metadata": {
        "id": "view-in-github",
        "colab_type": "text"
      },
      "source": [
        "<a href=\"https://colab.research.google.com/github/imruffin/FEMMESHackathon/blob/master/workshop_2.ipynb\" target=\"_parent\"><img src=\"https://colab.research.google.com/assets/colab-badge.svg\" alt=\"Open In Colab\"/></a>"
      ]
    },
    {
      "cell_type": "markdown",
      "metadata": {
        "id": "FH1t3hcVe4uH",
        "colab_type": "text"
      },
      "source": [
        "# Save Your Work\n",
        "\n",
        "Begin by saving this notebook the same way you saved `workshop_1.ipynb`"
      ]
    },
    {
      "cell_type": "markdown",
      "metadata": {
        "id": "GH7xLo_bs8zb",
        "colab_type": "text"
      },
      "source": [
        "# External Libraries\n",
        "\n",
        "In workshop 1 we worked with functions built into Python. The real power of Python comes from external libraries of functions.\n",
        "\n",
        "We can use these libraries simply by importing them into the notebook.\n",
        "\n",
        "We will explore some functions from NumPy, an essential library for scientific computing in Python. It allows us to manipulate numpy arrays, a variable type similar to lists of numbers, incredibly efficiently.\n",
        "\n",
        "To use a function from an imported library, you have to include the library name when calling the function, like so: `library_name.function(input)`"
      ]
    },
    {
      "cell_type": "code",
      "metadata": {
        "id": "83m0vhKzUjwE",
        "colab_type": "code",
        "colab": {}
      },
      "source": [
        "# importing numpy\n",
        "\n",
        "import numpy\n",
        "\n",
        "# now we have access to all functions in numpy's library\n",
        "\n",
        "# numpy has excellent documentation, and if you don't know how to do something\n",
        "# using numpy functions, just google \"numpy\" and whatever you want to do!\n"
      ],
      "execution_count": 0,
      "outputs": []
    },
    {
      "cell_type": "code",
      "metadata": {
        "id": "cIHqVaxXFKKt",
        "colab_type": "code",
        "colab": {}
      },
      "source": [
        "# to create a numpy array:\n",
        "# don't forget the square brackets inside the parenthesis!\n",
        "\n",
        "my_array = numpy.array([1,2,3,4,5])"
      ],
      "execution_count": 0,
      "outputs": []
    },
    {
      "cell_type": "code",
      "metadata": {
        "id": "Wp9PcW3OFnB4",
        "colab_type": "code",
        "colab": {
          "base_uri": "https://localhost:8080/",
          "height": 34
        },
        "outputId": "2b42ff64-ed12-44d8-82b0-d752af29f8fd"
      },
      "source": [
        "# remember that function you wrote in workshop 1 to square numbers in a list?\n",
        "\n",
        "squares_list = []\n",
        "\n",
        "def squaring_numbers(n):\n",
        "  for num in range(n):\n",
        "    squares_list.append(num*num)\n",
        "  \n",
        "  return squares_list\n",
        "\n",
        "\n",
        "\n",
        "# you can do this with one line using a numpy array with a numpy function, numpy.square(array)!\n",
        "\n",
        "num_array = numpy.array([0,1,2,3,4,5,6,7,8,9])\n",
        "\n",
        "print(numpy.square(num_array))"
      ],
      "execution_count": 27,
      "outputs": [
        {
          "output_type": "stream",
          "text": [
            "[ 0  1  4  9 16 25 36 49 64 81]\n"
          ],
          "name": "stdout"
        }
      ]
    },
    {
      "cell_type": "code",
      "metadata": {
        "id": "4I8SeJ8FxhGg",
        "colab_type": "code",
        "colab": {}
      },
      "source": [
        ""
      ],
      "execution_count": 0,
      "outputs": []
    }
  ]
}
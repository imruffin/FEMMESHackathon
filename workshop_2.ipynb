{
  "nbformat": 4,
  "nbformat_minor": 0,
  "metadata": {
    "colab": {
      "name": "workshop_2.ipynb",
      "provenance": [],
      "include_colab_link": true
    },
    "kernelspec": {
      "name": "python3",
      "display_name": "Python 3"
    }
  },
  "cells": [
    {
      "cell_type": "markdown",
      "metadata": {
        "id": "view-in-github",
        "colab_type": "text"
      },
      "source": [
        "<a href=\"https://colab.research.google.com/github/imruffin/FEMMESHackathon/blob/master/workshop_2.ipynb\" target=\"_parent\"><img src=\"https://colab.research.google.com/assets/colab-badge.svg\" alt=\"Open In Colab\"/></a>"
      ]
    },
    {
      "cell_type": "markdown",
      "metadata": {
        "id": "8hkRgFL6Ic95",
        "colab_type": "text"
      },
      "source": [
        "# **BEFORE YOU BEGIN, in the upper tool bar click Edit --> clear all outputs  (the last menu item)**"
      ]
    },
    {
      "cell_type": "markdown",
      "metadata": {
        "id": "FH1t3hcVe4uH",
        "colab_type": "text"
      },
      "source": [
        "# Save Your Work\n",
        "\n",
        "Begin by saving this notebook the same way you saved `workshop_1.ipynb`"
      ]
    },
    {
      "cell_type": "markdown",
      "metadata": {
        "id": "GH7xLo_bs8zb",
        "colab_type": "text"
      },
      "source": [
        "# External Libraries\n",
        "\n",
        "In workshop 1 we worked with functions built into Python. The real power of Python comes from external libraries of functions.\n",
        "\n",
        "We can use these libraries simply by importing them into the notebook.\n",
        "\n",
        "To use a function from an imported library, you have to include the library name when calling the function, like so: `library_name.function(input)`"
      ]
    },
    {
      "cell_type": "markdown",
      "metadata": {
        "id": "15n72yH57hj4",
        "colab_type": "text"
      },
      "source": [
        "## NumPy\n",
        "\n",
        "We will explore some functions from NumPy, an essential library for scientific computing in Python. It allows us to manipulate numpy arrays, a variable type similar to lists of numbers, incredibly efficiently."
      ]
    },
    {
      "cell_type": "code",
      "metadata": {
        "id": "83m0vhKzUjwE",
        "colab_type": "code",
        "colab": {}
      },
      "source": [
        "# importing numpy\n",
        "\n",
        "import numpy\n",
        "\n",
        "# now we have access to all functions in numpy's library\n",
        "\n",
        "# numpy has excellent documentation, and if you don't know how to do something\n",
        "# using numpy functions, just google \"numpy\" and whatever you want to do!\n"
      ],
      "execution_count": 0,
      "outputs": []
    },
    {
      "cell_type": "code",
      "metadata": {
        "id": "cIHqVaxXFKKt",
        "colab_type": "code",
        "colab": {}
      },
      "source": [
        "# to create a numpy array:\n",
        "# don't forget the square brackets inside the parenthesis!\n",
        "\n",
        "my_array = numpy.array([1.0,1.0,3.0,7.0,5.0])"
      ],
      "execution_count": 0,
      "outputs": []
    },
    {
      "cell_type": "code",
      "metadata": {
        "id": "Wp9PcW3OFnB4",
        "colab_type": "code",
        "colab": {}
      },
      "source": [
        "# remember that function you wrote in workshop 1 to square numbers in a list?\n",
        "\n",
        "squares_list = []\n",
        "\n",
        "def squaring_numbers(n):\n",
        "  for num in range(n):\n",
        "    squares_list.append(num*num)\n",
        "  \n",
        "  return squares_list\n",
        "\n",
        "\n",
        "\n",
        "# you can do this with one line using a numpy array with numpy functions: \n",
        "# numpy.square(array)  and  range_of_numbers = numpy.arange(n)!\n",
        "\n",
        "\n",
        "#--------------------------------------------------------#\n",
        "# Task: Describe what numpy.arange(some_integer) returns,\n",
        "#       and what numpy.square(array) returns. What happens\n",
        "#       if you put two values in numpy.arange(a,b), where\n",
        "#       a is smaller (or more negative) than b?\n",
        "#\n",
        "#       Using these two numpy functions instead of a\n",
        "#       for loop, do the same action as\n",
        "#       in squaring_numbers(n) above.\n",
        "#--------------------------------------------------------#\n",
        "\n",
        "\n",
        "# your code here"
      ],
      "execution_count": 0,
      "outputs": []
    },
    {
      "cell_type": "markdown",
      "metadata": {
        "id": "6O25j2ZY7o9-",
        "colab_type": "text"
      },
      "source": [
        "### Click for solution:"
      ]
    },
    {
      "cell_type": "code",
      "metadata": {
        "id": "4I8SeJ8FxhGg",
        "colab_type": "code",
        "colab": {}
      },
      "source": [
        "# numpy.arange(some_integer) returns a numpy array of integers up to\n",
        "# but not including some_integer.\n",
        "\n",
        "# numpy.arange(-5, 5) returns a numpy array of integers between -5 and 5.\n",
        "\n",
        "# numpy.square(array) squares each item in array without having to \n",
        "# loop through the numpy array values\n",
        "\n",
        "def squaring_numbers_with_numpy(n):\n",
        "  return numpy.square(numpy.arange(n))"
      ],
      "execution_count": 0,
      "outputs": []
    },
    {
      "cell_type": "markdown",
      "metadata": {
        "id": "-FQ18b648jss",
        "colab_type": "text"
      },
      "source": [
        "## Matplotlib\n",
        "\n",
        "Matplotlib is a plotting library for Python that allows you to visualize your data.\n",
        "\n",
        "As a side note, we can actually rename an imported library to something more convenient, especially when the library name is very long, using the syntax `import library as name`"
      ]
    },
    {
      "cell_type": "code",
      "metadata": {
        "id": "IofX4zWa6J5u",
        "colab_type": "code",
        "colab": {}
      },
      "source": [
        "# import the library matplotlib.pyplot, but call it plt for short.\n",
        "\n",
        "import matplotlib.pyplot as plt"
      ],
      "execution_count": 0,
      "outputs": []
    },
    {
      "cell_type": "code",
      "metadata": {
        "id": "ar_qAneB9T7z",
        "colab_type": "code",
        "colab": {
          "base_uri": "https://localhost:8080/",
          "height": 283
        },
        "outputId": "e783939e-71e6-4e5e-e833-bec586a7a8bb"
      },
      "source": [
        "# Now we can plot arrays to see and understand our data!\n",
        "\n",
        "# To plot a simple line, y = 3*x + 1, we need to make arrays and plot them:\n",
        "\n",
        "x_array = numpy.arange(-10,10) \n",
        "y_array = 3*x_array + 1        \n",
        "  # !!! numpy arrays are special because mathematical operations on the whole array\n",
        "  # actually act on each item individually, without having to loop through the \n",
        "  #whole array manually.\n",
        "\n",
        "plt.plot(x_array, y_array)"
      ],
      "execution_count": 40,
      "outputs": [
        {
          "output_type": "execute_result",
          "data": {
            "text/plain": [
              "[<matplotlib.lines.Line2D at 0x7f7e485b0e10>]"
            ]
          },
          "metadata": {
            "tags": []
          },
          "execution_count": 40
        },
        {
          "output_type": "display_data",
          "data": {
            "image/png": "[encoded data removed]",
            "text/plain": [
              "<Figure size 432x288 with 1 Axes>"
            ]
          },
          "metadata": {
            "tags": []
          }
        }
      ]
    },
    {
      "cell_type": "markdown",
      "metadata": {
        "id": "jXj7zJxk_MXs",
        "colab_type": "text"
      },
      "source": [
        "### Exercise: Plotting a parabola\n",
        "\n",
        "- Create a plot of a parabola y = x^2 using numpy arrays and functions and plt. Plot the parabola in the range -20 to 20. \n",
        "\n",
        "- Google matplotlib.pyplot and figure out how to add an x-axis label, y-axis label, and title to your plot.\n",
        "\n",
        "- You can also google matplotlib.pyplot.plot to find this function's documentation. Try to change the parabola's marker style and color using the online documentation's examples. "
      ]
    },
    {
      "cell_type": "code",
      "metadata": {
        "id": "qE9TFEQXCgu-",
        "colab_type": "code",
        "colab": {}
      },
      "source": [
        "# your code here"
      ],
      "execution_count": 0,
      "outputs": []
    },
    {
      "cell_type": "markdown",
      "metadata": {
        "id": "5PM6FiCBBqEC",
        "colab_type": "text"
      },
      "source": [
        "#### Click for solution:"
      ]
    },
    {
      "cell_type": "code",
      "metadata": {
        "id": "qNag3Jih-lIU",
        "colab_type": "code",
        "colab": {
          "base_uri": "https://localhost:8080/",
          "height": 312
        },
        "outputId": "b8173734-e515-425d-daea-4fd7b87640c4"
      },
      "source": [
        "x_arr = numpy.arange(-20,21)\n",
        "plt.plot(x_arr,numpy.square(x_arr),marker='*',color='purple') # there are TONS of marker and color styles\n",
        "plt.xlabel(\"x\")\n",
        "plt.ylabel(\"y\")\n",
        "plt.title(\"Purple Parabola :)\")\n"
      ],
      "execution_count": 44,
      "outputs": [
        {
          "output_type": "execute_result",
          "data": {
            "text/plain": [
              "Text(0.5, 1.0, 'Purple Parabola :)')"
            ]
          },
          "metadata": {
            "tags": []
          },
          "execution_count": 44
        },
        {
          "output_type": "display_data",
          "data": {
            "image/png": "[encoded data removed]",
            "text/plain": [
              "<Figure size 432x288 with 1 Axes>"
            ]
          },
          "metadata": {
            "tags": []
          }
        }
      ]
    },
    {
      "cell_type": "markdown",
      "metadata": {
        "id": "vCmh9bv7CjQg",
        "colab_type": "text"
      },
      "source": [
        "# Indexing and 2-Dimensional Arrays"
      ]
    },
    {
      "cell_type": "markdown",
      "metadata": {
        "id": "RZ_i3qtlCzGj",
        "colab_type": "text"
      },
      "source": [
        "## Indexing in a 1-D array\n",
        "\n",
        "Indexing allows you to look for values in your array or see what value is at a specific location in your array.\n",
        "\n",
        "Python indexing starts at 0. This means that for an array [3, 9, 5], the 0 index is the leftmost item, in this case 3, and the 1 index refers to the value 9."
      ]
    },
    {
      "cell_type": "code",
      "metadata": {
        "id": "h_e_PPKiBpy9",
        "colab_type": "code",
        "colab": {
          "base_uri": "https://localhost:8080/",
          "height": 34
        },
        "outputId": "87ce8965-c416-4729-86da-bbd7c7c0f9ee"
      },
      "source": [
        "# creating a 1-D array:\n",
        "\n",
        "one_d_arr = numpy.arange(-5,5)\n",
        "\n",
        "print(one_d_arr)"
      ],
      "execution_count": 46,
      "outputs": [
        {
          "output_type": "stream",
          "text": [
            "2\n"
          ],
          "name": "stdout"
        }
      ]
    },
    {
      "cell_type": "code",
      "metadata": {
        "id": "4375NugxD7-h",
        "colab_type": "code",
        "colab": {}
      },
      "source": [
        "# to access the value stored at index i in an array, type array[i]\n",
        "\n",
        "val = one_d_arr[0]  # val == -5, the first item in one_d_arr\n",
        "\n",
        "another_val = one_d_arr[7] # another_val == 2"
      ],
      "execution_count": 0,
      "outputs": []
    },
    {
      "cell_type": "code",
      "metadata": {
        "id": "0_W8RX8UEi77",
        "colab_type": "code",
        "colab": {}
      },
      "source": [
        "#---------------------------------------------------------#\n",
        "# Question: What happens when you try to access a value at \n",
        "#           index 12 of one_d_arr? Why?\n",
        "#\n",
        "# HINT: What does len(one_d_arr) return?\n",
        "#\n",
        "# your answer:\n",
        "#---------------------------------------------------------#"
      ],
      "execution_count": 0,
      "outputs": []
    },
    {
      "cell_type": "markdown",
      "metadata": {
        "id": "b9sVRsM4GKed",
        "colab_type": "text"
      },
      "source": [
        "### Reassigning a value at a given index:\n",
        "\n",
        "You can change the value stored at a given index of an array by directly setting that index equal to a new value:"
      ]
    },
    {
      "cell_type": "code",
      "metadata": {
        "id": "EKVphQxBGE4L",
        "colab_type": "code",
        "colab": {
          "base_uri": "https://localhost:8080/",
          "height": 51
        },
        "outputId": "769eb7b4-7063-480c-b8d7-e9f760027293"
      },
      "source": [
        "test = numpy.array([1,1,1])\n",
        "print(test)\n",
        "\n",
        "test[2] = 5\n",
        "\n",
        "print(test)\n",
        "\n",
        "# I reassigned the number at index 2 of test."
      ],
      "execution_count": 48,
      "outputs": [
        {
          "output_type": "stream",
          "text": [
            "[1 1 1]\n",
            "[1 1 5]\n"
          ],
          "name": "stdout"
        }
      ]
    },
    {
      "cell_type": "code",
      "metadata": {
        "id": "E5V-Pwp9G3tq",
        "colab_type": "code",
        "colab": {}
      },
      "source": [
        "#-------------------------------------------# \n",
        "# Task: Using a for loop and if statement,\n",
        "#       replace all odd values in task_array\n",
        "#       with the odd value plus one.\n",
        "#-------------------------------------------#\n",
        "\n",
        "task_array = numpy.arange(20)\n",
        "\n",
        "# your code here"
      ],
      "execution_count": 0,
      "outputs": []
    },
    {
      "cell_type": "markdown",
      "metadata": {
        "id": "wCrVGkjAHdz4",
        "colab_type": "text"
      },
      "source": [
        "#### Click for solution"
      ]
    },
    {
      "cell_type": "code",
      "metadata": {
        "id": "lT9793mnHa10",
        "colab_type": "code",
        "colab": {
          "base_uri": "https://localhost:8080/",
          "height": 34
        },
        "outputId": "c4e8ea9d-09d7-4f57-c1da-bd06051ce273"
      },
      "source": [
        "task_array = numpy.arange(20)\n",
        "\n",
        "# your code here\n",
        "\n",
        "for i in task_array:\n",
        "  if task_array[i]%2 != 0:\n",
        "    task_array[i] = task_array[i] + 1\n",
        "\n",
        "print(task_array)"
      ],
      "execution_count": 49,
      "outputs": [
        {
          "output_type": "stream",
          "text": [
            "[ 0  2  2  4  4  6  6  8  8 10 10 12 12 14 14 16 16 18 18 20]\n"
          ],
          "name": "stdout"
        }
      ]
    },
    {
      "cell_type": "markdown",
      "metadata": {
        "id": "k-ZANq6HFMDK",
        "colab_type": "text"
      },
      "source": [
        "## 2-D Arrays\n",
        "\n",
        "You can make an array that has several arrays in it. If you have learned what a matrix is, a 2-D array is simply an MxN matrix.\n",
        "\n",
        "Our goal with working with these arrays is to edit pixels of images!\n",
        "\n"
      ]
    },
    {
      "cell_type": "code",
      "metadata": {
        "id": "gnykKlEpFA0i",
        "colab_type": "code",
        "colab": {}
      },
      "source": [
        "######################################\n",
        "# 2-D arrays in numpy: quick summary #\n",
        "######################################\n",
        "\n",
        "two_d_arr = numpy.array([ [1,2,3], [10,20,30] ]) # simply an array containing two arrays!\n",
        "# the shape of this array is described as (2,3), \n",
        "# since it contains 2 arrays each with length 3.\n",
        "# to determine an array's shape, you can type array.shape to output (m,n) shape.\n",
        "\n",
        "\n",
        "# to access the first 1-D array,\n",
        "first_1_d_arr = two_d_arr[0]\n"
      ],
      "execution_count": 0,
      "outputs": []
    },
    {
      "cell_type": "code",
      "metadata": {
        "id": "s4HXTikSPBKe",
        "colab_type": "code",
        "colab": {}
      },
      "source": [
        "#-------------------------------------------#\n",
        "# How do you access the [10,20,30] array?\n",
        "#\n",
        "# your answer:\n",
        "#-------------------------------------------#"
      ],
      "execution_count": 0,
      "outputs": []
    },
    {
      "cell_type": "code",
      "metadata": {
        "id": "bviBDXavPBUy",
        "colab_type": "code",
        "colab": {
          "base_uri": "https://localhost:8080/",
          "height": 51
        },
        "outputId": "f4e46c74-2d33-4688-9f58-f698cfc4ad17"
      },
      "source": [
        "# two equivalent ways to access i.e. the third element of the first array\n",
        "# (the integer 3 here)\n",
        "\n",
        "val = two_d_arr[0][2]\n",
        "print(val)\n",
        "\n",
        "val_2 = two_d_arr[0,2]\n",
        "print(val_2)"
      ],
      "execution_count": 65,
      "outputs": [
        {
          "output_type": "stream",
          "text": [
            "3\n",
            "3\n"
          ],
          "name": "stdout"
        }
      ]
    },
    {
      "cell_type": "code",
      "metadata": {
        "id": "2RSqUgLYPBbM",
        "colab_type": "code",
        "colab": {
          "base_uri": "https://localhost:8080/",
          "height": 51
        },
        "outputId": "0dfbd831-38aa-4c01-935c-855586820dd6"
      },
      "source": [
        "# to access several adjacent elements of an array, use a colon between two indices:\n",
        "# as an example, I want the 5th through 10th indeces of the following array:\n",
        "\n",
        "test_array = numpy.arange(15)\n",
        "\n",
        "vals = test_array[5:10] # NOTE this does NOT include index 10!\n",
        "print(vals)\n",
        "\n",
        "\n",
        "# to access all elements of an array, use just a colon:\n",
        "\n",
        "all_vals = test_array[:]\n",
        "print(all_vals)\n"
      ],
      "execution_count": 68,
      "outputs": [
        {
          "output_type": "stream",
          "text": [
            "[5 6 7 8 9]\n",
            "[ 0  1  2  3  4  5  6  7  8  9 10 11 12 13 14]\n"
          ],
          "name": "stdout"
        }
      ]
    },
    {
      "cell_type": "markdown",
      "metadata": {
        "id": "4axGcoGKMHlo",
        "colab_type": "text"
      },
      "source": [
        "## Exercise: Marking points on a grid\n",
        "\n",
        "Our goal here is to understand how to manipulate values on a grid.\n",
        "\n",
        "Use the function `numpy.zeros((num_rows,num_cols))`, which creates a num_rows by num_cols shaped array with all values set to 0, to create a square grid of size 30 by 30. \n",
        "\n",
        "Please first print several types of numpy.zeros((a,b)) arrays with values less than 10 to understand exactly what this data structure looks like."
      ]
    },
    {
      "cell_type": "code",
      "metadata": {
        "id": "zoa6IpuHKQFl",
        "colab_type": "code",
        "colab": {
          "base_uri": "https://localhost:8080/",
          "height": 153
        },
        "outputId": "98146ec6-b434-4ed5-9df5-df7f874100ea"
      },
      "source": [
        "# print and play around with several variations of numpy.zeros((a,b))\n",
        "\n",
        "test = numpy.zeros((3,5))\n",
        "print(test) # to start you off\n",
        "\n",
        "\n",
        "print(\"\\n\") # just a blank line to separate the two printed arrays\n",
        "\n",
        "test[0][:] = 7 # note you can reassign an entire row of the array!\n",
        "\n",
        "print(test)\n"
      ],
      "execution_count": 73,
      "outputs": [
        {
          "output_type": "stream",
          "text": [
            "[[0. 0. 0. 0. 0.]\n",
            " [0. 0. 0. 0. 0.]\n",
            " [0. 0. 0. 0. 0.]]\n",
            "\n",
            "\n",
            "[[7. 7. 7. 7. 7.]\n",
            " [0. 0. 0. 0. 0.]\n",
            " [0. 0. 0. 0. 0.]]\n"
          ],
          "name": "stdout"
        }
      ]
    },
    {
      "cell_type": "code",
      "metadata": {
        "id": "5pKN1390JLgp",
        "colab_type": "code",
        "colab": {}
      },
      "source": [
        "# make your grid\n",
        "\n",
        "\n",
        "\n",
        "# now loop through the column indices (hint: what is the total number of columns?)\n",
        "# and set all row values in that column equal to the column index number\n",
        "# EXCEPT skip over the first column value in each row! \n",
        "# (so the first column value in each row is still zero)\n",
        "\n",
        "\n",
        "\n",
        "\n",
        "# now use the function plt.imshow(your_grid) to see what you've done\n",
        "\n"
      ],
      "execution_count": 0,
      "outputs": []
    },
    {
      "cell_type": "markdown",
      "metadata": {
        "id": "NZb89QkOScca",
        "colab_type": "text"
      },
      "source": [
        "#### Click for solution"
      ]
    },
    {
      "cell_type": "code",
      "metadata": {
        "id": "L7cvdpLgSbz9",
        "colab_type": "code",
        "colab": {
          "base_uri": "https://localhost:8080/",
          "height": 283
        },
        "outputId": "becb66ce-c561-4f93-db35-fb4c62b14cad"
      },
      "source": [
        "# make your grid\n",
        "\n",
        "my_grid = numpy.zeros((30,30))\n",
        "\n",
        "# now loop through the row indices and set all\n",
        "# column values in that row equal to the row index number\n",
        "# EXCEPT skip over the first column value in each row! (so it stays 0)\n",
        "\n",
        "for i in range(len(my_grid[0])): # alternatively, for i in range(30):\n",
        "  my_grid[i][1:] = i\n",
        "\n",
        "# now use the function plt.imshow(your_grid) to see what you've done\n",
        "\n",
        "plt.imshow(my_grid)\n",
        "\n",
        "# in this color scheme, purple is the lowest value (zero) in the array\n",
        "# and yellow is the highest value in the array."
      ],
      "execution_count": 83,
      "outputs": [
        {
          "output_type": "execute_result",
          "data": {
            "text/plain": [
              "<matplotlib.image.AxesImage at 0x7f7e48149fd0>"
            ]
          },
          "metadata": {
            "tags": []
          },
          "execution_count": 83
        },
        {
          "output_type": "display_data",
          "data": {
            "image/png": "[encoded data removed]",
            "text/plain": [
              "<Figure size 432x288 with 1 Axes>"
            ]
          },
          "metadata": {
            "tags": []
          }
        }
      ]
    },
    {
      "cell_type": "code",
      "metadata": {
        "id": "Y-MntV7FS74i",
        "colab_type": "code",
        "colab": {
          "base_uri": "https://localhost:8080/",
          "height": 34
        },
        "outputId": "934cb59f-8332-4ca9-f78d-ab0cda8b58dc"
      },
      "source": [
        "len(my_grid[0])"
      ],
      "execution_count": 76,
      "outputs": [
        {
          "output_type": "execute_result",
          "data": {
            "text/plain": [
              "30"
            ]
          },
          "metadata": {
            "tags": []
          },
          "execution_count": 76
        }
      ]
    },
    {
      "cell_type": "code",
      "metadata": {
        "id": "8qx-YGLbTK9S",
        "colab_type": "code",
        "colab": {}
      },
      "source": [
        ""
      ],
      "execution_count": 0,
      "outputs": []
    }
  ]
}
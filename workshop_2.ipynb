{
  "nbformat": 4,
  "nbformat_minor": 0,
  "metadata": {
    "colab": {
      "name": "workshop_2.ipynb",
      "provenance": [],
      "include_colab_link": true
    },
    "kernelspec": {
      "name": "python3",
      "display_name": "Python 3"
    }
  },
  "cells": [
    {
      "cell_type": "markdown",
      "metadata": {
        "id": "view-in-github",
        "colab_type": "text"
      },
      "source": [
        "<a href=\"https://colab.research.google.com/github/imruffin/FEMMESHackathon/blob/master/workshop_2.ipynb\" target=\"_parent\"><img src=\"https://colab.research.google.com/assets/colab-badge.svg\" alt=\"Open In Colab\"/></a>"
      ]
    },
    {
      "cell_type": "markdown",
      "metadata": {
        "id": "FH1t3hcVe4uH",
        "colab_type": "text"
      },
      "source": [
        "# Save Your Work\n",
        "\n",
        "Begin by saving this notebook the same way you saved `workshop_1.ipynb`"
      ]
    },
    {
      "cell_type": "markdown",
      "metadata": {
        "id": "GH7xLo_bs8zb",
        "colab_type": "text"
      },
      "source": [
        "# External Libraries\n",
        "\n",
        "In workshop 1 we worked with functions built into Python. The real power of Python comes from external libraries of functions.\n",
        "\n",
        "We can use these libraries simply by importing them into the notebook.\n",
        "\n",
        "To use a function from an imported library, you have to include the library name when calling the function, like so: `library_name.function(input)`"
      ]
    },
    {
      "cell_type": "markdown",
      "metadata": {
        "id": "15n72yH57hj4",
        "colab_type": "text"
      },
      "source": [
        "## NumPy\n",
        "\n",
        "We will explore some functions from NumPy, an essential library for scientific computing in Python. It allows us to manipulate numpy arrays, a variable type similar to lists of numbers, incredibly efficiently."
      ]
    },
    {
      "cell_type": "code",
      "metadata": {
        "id": "83m0vhKzUjwE",
        "colab_type": "code",
        "colab": {}
      },
      "source": [
        "# importing numpy\n",
        "\n",
        "import numpy\n",
        "\n",
        "# now we have access to all functions in numpy's library\n",
        "\n",
        "# numpy has excellent documentation, and if you don't know how to do something\n",
        "# using numpy functions, just google \"numpy\" and whatever you want to do!\n"
      ],
      "execution_count": 0,
      "outputs": []
    },
    {
      "cell_type": "code",
      "metadata": {
        "id": "cIHqVaxXFKKt",
        "colab_type": "code",
        "colab": {}
      },
      "source": [
        "# to create a numpy array:\n",
        "# don't forget the square brackets inside the parenthesis!\n",
        "\n",
        "my_array = numpy.array([1.0,1.0,3.0,7.0,5.0])"
      ],
      "execution_count": 0,
      "outputs": []
    },
    {
      "cell_type": "code",
      "metadata": {
        "id": "Wp9PcW3OFnB4",
        "colab_type": "code",
        "colab": {}
      },
      "source": [
        "# remember that function you wrote in workshop 1 to square numbers in a list?\n",
        "\n",
        "squares_list = []\n",
        "\n",
        "def squaring_numbers(n):\n",
        "  for num in range(n):\n",
        "    squares_list.append(num*num)\n",
        "  \n",
        "  return squares_list\n",
        "\n",
        "\n",
        "\n",
        "# you can do this with one line using a numpy array with numpy functions: \n",
        "# numpy.square(array)  and  range_of_numbers = numpy.arange(n)!\n",
        "\n",
        "\n",
        "#--------------------------------------------------------#\n",
        "# Task: Describe what numpy.arange(some_integer) returns,\n",
        "#       and what numpy.square(array) returns. What happens\n",
        "#       if you put two values in numpy.arange(a,b), where\n",
        "#       a is smaller (or more negative) than b?\n",
        "#\n",
        "#       Using these two numpy functions instead of a\n",
        "#       for loop, do the same action as\n",
        "#       in squaring_numbers(n) above.\n",
        "#--------------------------------------------------------#\n",
        "\n",
        "\n",
        "# your code here"
      ],
      "execution_count": 0,
      "outputs": []
    },
    {
      "cell_type": "markdown",
      "metadata": {
        "id": "6O25j2ZY7o9-",
        "colab_type": "text"
      },
      "source": [
        "### Click for solution:"
      ]
    },
    {
      "cell_type": "code",
      "metadata": {
        "id": "4I8SeJ8FxhGg",
        "colab_type": "code",
        "colab": {}
      },
      "source": [
        "# numpy.arange(some_integer) returns a numpy array of integers up to\n",
        "# but not including some_integer.\n",
        "\n",
        "# numpy.arange(-5, 5) returns a numpy array of integers between -5 and 5.\n",
        "\n",
        "# numpy.square(array) squares each item in array without having to \n",
        "# loop through the numpy array values\n",
        "\n",
        "def squaring_numbers_with_numpy(n):\n",
        "  return numpy.square(numpy.arange(n))"
      ],
      "execution_count": 0,
      "outputs": []
    },
    {
      "cell_type": "markdown",
      "metadata": {
        "id": "-FQ18b648jss",
        "colab_type": "text"
      },
      "source": [
        "## Matplotlib\n",
        "\n",
        "Matplotlib is a plotting library for Python that allows you to visualize your data.\n",
        "\n",
        "As a side note, we can actually rename an imported library to something more convenient, especially when the library name is very long, using the syntax `import library as name`"
      ]
    },
    {
      "cell_type": "code",
      "metadata": {
        "id": "IofX4zWa6J5u",
        "colab_type": "code",
        "colab": {}
      },
      "source": [
        "# import the library matplotlib.pyplot, but call it plt for short.\n",
        "\n",
        "import matplotlib.pyplot as plt"
      ],
      "execution_count": 0,
      "outputs": []
    },
    {
      "cell_type": "code",
      "metadata": {
        "id": "ar_qAneB9T7z",
        "colab_type": "code",
        "colab": {
          "base_uri": "https://localhost:8080/",
          "height": 283
        },
        "outputId": "e783939e-71e6-4e5e-e833-bec586a7a8bb"
      },
      "source": [
        "# Now we can plot arrays to see and understand our data!\n",
        "\n",
        "# To plot a simple line, y = 3*x + 1, we need to make arrays and plot them:\n",
        "\n",
        "x_array = numpy.arange(-10,10) \n",
        "y_array = 3*x_array + 1        \n",
        "  # !!! numpy arrays are special because mathematical operations on the whole array\n",
        "  # actually act on each item individually, without having to loop through the \n",
        "  #whole array manually.\n",
        "\n",
        "plt.plot(x_array, y_array)"
      ],
      "execution_count": 40,
      "outputs": [
        {
          "output_type": "execute_result",
          "data": {
            "text/plain": [
              "[<matplotlib.lines.Line2D at 0x7f7e485b0e10>]"
            ]
          },
          "metadata": {
            "tags": []
          },
          "execution_count": 40
        },
        {
          "output_type": "display_data",
          "data": {
            "image/png": "[encoded data removed]",
            "text/plain": [
              "<Figure size 432x288 with 1 Axes>"
            ]
          },
          "metadata": {
            "tags": []
          }
        }
      ]
    },
    {
      "cell_type": "markdown",
      "metadata": {
        "id": "jXj7zJxk_MXs",
        "colab_type": "text"
      },
      "source": [
        "### Exercise: Plotting a parabola\n",
        "\n",
        "Create a plot of a parabola y = x^2 using numpy arrays and functions and plt. \n",
        "\n",
        "Google matplotlib.pyplot and figure out how to add an x-axis label, y-axis label, and title to your plot.\n",
        "\n",
        "You can also google matplotlib.pyplot.plot to find this function's documentation. Try to change the parabola's marker style and color using the online documentation's examples. "
      ]
    },
    {
      "cell_type": "code",
      "metadata": {
        "id": "qNag3Jih-lIU",
        "colab_type": "code",
        "colab": {}
      },
      "source": [
        ""
      ],
      "execution_count": 0,
      "outputs": []
    }
  ]
}
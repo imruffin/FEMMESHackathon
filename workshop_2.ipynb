{
  "nbformat": 4,
  "nbformat_minor": 0,
  "metadata": {
    "colab": {
      "name": "workshop_2.ipynb",
      "provenance": [],
      "include_colab_link": true
    },
    "kernelspec": {
      "name": "python3",
      "display_name": "Python 3"
    }
  },
  "cells": [
    {
      "cell_type": "markdown",
      "metadata": {
        "id": "view-in-github",
        "colab_type": "text"
      },
      "source": [
        "<a href=\"https://colab.research.google.com/github/imruffin/FEMMESHackathon/blob/master/workshop_2.ipynb\" target=\"_parent\"><img src=\"https://colab.research.google.com/assets/colab-badge.svg\" alt=\"Open In Colab\"/></a>"
      ]
    },
    {
      "cell_type": "markdown",
      "metadata": {
        "id": "FH1t3hcVe4uH",
        "colab_type": "text"
      },
      "source": [
        "# Saving Your Work\n",
        "\n",
        "Begin by saving this notebook the same way you saved `workshop_1.ipynb`"
      ]
    },
    {
      "cell_type": "markdown",
      "metadata": {
        "id": "tbyxpIXwfOM3",
        "colab_type": "text"
      },
      "source": [
        "# Functions\n",
        "\n",
        "A function allows you to perform an operation on any input and returns the desired output."
      ]
    },
    {
      "cell_type": "code",
      "metadata": {
        "id": "83m0vhKzUjwE",
        "colab_type": "code",
        "colab": {
          "base_uri": "https://localhost:8080/",
          "height": 34
        },
        "outputId": "b6255293-bd70-4a7f-e581-26b724ddefa6"
      },
      "source": [
        "# There are two key components to every function:\n",
        "\n",
        "def my_function(my_input): # this line defines the function and input variable\n",
        "  return my_input          # this line is the function's output\n",
        "\n",
        "# ^ note the indentation (one tab)\n",
        "# this tells the computer that `return my_input` is part of my_function.\n",
        "\n",
        "\n",
        "# here's a familiar example: the function y(x) = m*x+b describing a line.\n",
        "def y(x):\n",
        "  m = 2.0 # slope of the line\n",
        "  b = 1.0 # y-intercept of the line\n",
        "  answer = m*x+b\n",
        "  return answer\n",
        "\n",
        "\n",
        "# you may assign the function output to a variable:\n",
        "x = 5.0\n",
        "output = y(x)\n",
        "\n",
        "# running this cell shows the expected output of 11.0\n",
        "print(\"y(\",x,\") = \",output)\n"
      ],
      "execution_count": 5,
      "outputs": [
        {
          "output_type": "stream",
          "text": [
            "y( 5.0 ) =  11.0\n"
          ],
          "name": "stdout"
        }
      ]
    },
    {
      "cell_type": "markdown",
      "metadata": {
        "id": "WA0CZNVL0hyL",
        "colab_type": "text"
      },
      "source": [
        "## Functions are extremely versatile\n"
      ]
    },
    {
      "cell_type": "code",
      "metadata": {
        "id": "tIHauGAreyhH",
        "colab_type": "code",
        "colab": {
          "base_uri": "https://localhost:8080/",
          "height": 34
        },
        "outputId": "1b02eb5d-374b-40a5-a3e0-e374c34073e5"
      },
      "source": [
        "# functions can take multiple inputs:\n",
        "\n",
        "def y_version2(x,m,b):\n",
        "  '''you can define m and b as inputs \n",
        "  rather than set values inside the function''' \n",
        "  # note the triple quote sandwich makes a block comment that can span several lines\n",
        "  \n",
        "  answer = m*x+b\n",
        "  return answer\n",
        "\n",
        "output_2 = y_version2(5.0,2.0,1.0) \n",
        "print(\"The output of y = \",output,\" equals the output of y_version2 = \",output_2)"
      ],
      "execution_count": 9,
      "outputs": [
        {
          "output_type": "stream",
          "text": [
            "The output of y =  11.0  equals the output of y_version2 =  11.0\n"
          ],
          "name": "stdout"
        }
      ]
    },
    {
      "cell_type": "code",
      "metadata": {
        "id": "d5POxPfwvG7J",
        "colab_type": "code",
        "colab": {
          "base_uri": "https://localhost:8080/",
          "height": 34
        },
        "outputId": "303121ef-9c46-4673-9a94-4ecc2a2216ed"
      },
      "source": [
        "# inputs can be any variable type\n",
        "\n",
        "def repeat_word(word, num_repetitions):\n",
        "  '''word == string type\n",
        "  num_repetitions == integer type'''\n",
        "\n",
        "  answer = num_repetitions*word\n",
        "  return answer\n",
        "\n",
        "\n",
        "# you can print the output directly if you don't need to save the output value\n",
        "print(repeat_word(\"taco\",5))"
      ],
      "execution_count": 10,
      "outputs": [
        {
          "output_type": "stream",
          "text": [
            "tacotacotacotacotaco\n"
          ],
          "name": "stdout"
        }
      ]
    },
    {
      "cell_type": "code",
      "metadata": {
        "id": "PaBfVAEy2dyU",
        "colab_type": "code",
        "colab": {}
      },
      "source": [
        ""
      ],
      "execution_count": 0,
      "outputs": []
    }
  ]
}
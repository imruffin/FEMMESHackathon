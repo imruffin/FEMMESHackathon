{
  "nbformat": 4,
  "nbformat_minor": 0,
  "metadata": {
    "colab": {
      "name": "workshop_1.ipynb",
      "provenance": [],
      "toc_visible": true,
      "include_colab_link": true
    },
    "kernelspec": {
      "name": "python3",
      "display_name": "Python 3"
    }
  },
  "cells": [
    {
      "cell_type": "markdown",
      "metadata": {
        "id": "view-in-github",
        "colab_type": "text"
      },
      "source": [
        "<a href=\"https://colab.research.google.com/github/imruffin/FEMMESHackathon/blob/master/workshop_1.ipynb\" target=\"_parent\"><img src=\"https://colab.research.google.com/assets/colab-badge.svg\" alt=\"Open In Colab\"/></a>"
      ]
    },
    {
      "cell_type": "markdown",
      "metadata": {
        "id": "rsm9H8jdaRNR",
        "colab_type": "text"
      },
      "source": [
        "# This is a text cell.\n",
        "\n",
        "The typing format is called **Markdown**. \n",
        "\n",
        "Double click a text cell to edit!\n",
        "\n",
        "To add a new text cell, click `+ Text` button in the toolbar above.\n",
        "\n",
        "Press `\"shift\"` and `\"return\"` keys at the same time to update a text cell.\n",
        "\n",
        "---"
      ]
    },
    {
      "cell_type": "markdown",
      "metadata": {
        "id": "-Ol9T2MUaziU",
        "colab_type": "text"
      },
      "source": [
        "# Text Cell Formatting\n",
        "\n",
        "### Here's a brief syntax guide to making your text cells look nice:\n",
        "\n",
        "Double-click on this cell to see the Markdown syntax (left) vs the updated cell appearance (right).\n",
        "\n",
        "---\n",
        "# Headings\n",
        "\n",
        "# One hashtag is the largest heading size\n",
        "## Two hashtags is smaller\n",
        "### Three hashtags\n",
        "#### Four hashtags\n",
        "##### Five hashtags\n",
        "is the same as plain typing\n",
        "###### And six hashtags doesn't make it any smaller\n",
        "\n",
        "---\n",
        "\n",
        "^ three dashes adds a line across the cell to break up text.\n",
        "\n",
        "# Fonts\n",
        "\n",
        "*Sandwiching with one asterisk makes your font italicized.*\n",
        "\n",
        "**Sandwiching with two asterisks makes your font bold.**\n",
        "\n",
        "`Sandwiching with the backtick (found as the lowercase character on the tilda ~ symbol's key), NOT an apostrophe, often used to indicate this is a code snippet.`\n",
        "\n",
        "---\n",
        "\n",
        "# Lists\n",
        "\n",
        "- Use a single dash\n",
        "- to make\n",
        "- a bullet list.\n",
        "\n",
        "\n",
        "- [ ] and add square brackets (with a space between left and right!) \n",
        "- [ ] to make a task you can check off.\n",
        "- [x] Replace the space inside the brackets with an `x` to check off the task!\n"
      ]
    },
    {
      "cell_type": "markdown",
      "metadata": {
        "id": "hREtLlhIfL95",
        "colab_type": "text"
      },
      "source": [
        "# Getting Started: Hello World!"
      ]
    },
    {
      "cell_type": "code",
      "metadata": {
        "id": "BO1dNsCcaOQZ",
        "colab_type": "code",
        "colab": {}
      },
      "source": [
        ""
      ],
      "execution_count": 0,
      "outputs": []
    }
  ]
}
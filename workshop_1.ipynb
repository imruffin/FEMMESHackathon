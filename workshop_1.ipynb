{
  "nbformat": 4,
  "nbformat_minor": 0,
  "metadata": {
    "colab": {
      "name": "workshop_1.ipynb",
      "provenance": [],
      "toc_visible": true,
      "include_colab_link": true
    },
    "kernelspec": {
      "name": "python3",
      "display_name": "Python 3"
    }
  },
  "cells": [
    {
      "cell_type": "markdown",
      "metadata": {
        "id": "view-in-github",
        "colab_type": "text"
      },
      "source": [
        "<a href=\"https://colab.research.google.com/github/imruffin/FEMMESHackathon/blob/master/workshop_1.ipynb\" target=\"_parent\"><img src=\"https://colab.research.google.com/assets/colab-badge.svg\" alt=\"Open In Colab\"/></a>"
      ]
    },
    {
      "cell_type": "markdown",
      "metadata": {
        "id": "rtn6Jd2CgnXK",
        "colab_type": "text"
      },
      "source": [
        "# Saving Your Work\n",
        "\n",
        "Hopefully you have a Git account (or at least a google account).\n",
        "\n",
        "**To save this notebook for yourself in your GitHub account (preferred):**\n",
        "- Go to your GitHub home page.\n",
        "- Click the `+` icon in the upper right corner and choose `new repository`\n",
        "  - *repository: a folder on GitHub where you store code*\n",
        "- Name your repository and click the green `create repository` button.\n",
        "- Come back to this file.\n",
        "- go to `File` --> `save a copy in GitHub` in the upper toolbar\n",
        "- sign in to your GitHub account when prompted and save this in your new repository!\n",
        "\n",
        "\n",
        "**To save this notebook in your google drive**\n",
        "- go to `File` --> `save a copy in Drive` in the upper toolbar\n",
        "- It's that easy.\n",
        "\n",
        "---"
      ]
    },
    {
      "cell_type": "markdown",
      "metadata": {
        "id": "rsm9H8jdaRNR",
        "colab_type": "text"
      },
      "source": [
        "# This is a text cell.\n",
        "\n",
        "The typing format is called **Markdown**. \n",
        "\n",
        "Double click a text cell to edit!\n",
        "\n",
        "To add a new text cell, click `+ Text` button in the toolbar above.\n",
        "\n",
        "Press `\"shift\"` and `\"return\"` keys at the same time to update a text cell.\n",
        "\n",
        "---"
      ]
    },
    {
      "cell_type": "markdown",
      "metadata": {
        "id": "-Ol9T2MUaziU",
        "colab_type": "text"
      },
      "source": [
        "# Text Cell Formatting\n",
        "\n",
        "## Here's a brief syntax guide to making your text cells look nice:\n",
        "\n",
        "### Double-click on this cell to see the Markdown syntax (left) vs the updated cell appearance (right).\n",
        "\n",
        "Press `\"shift\"` and `\"return\"` keys at the same time to update a text cell.\n",
        "\n",
        "---\n",
        "# Headings\n",
        "\n",
        "# One hashtag is the largest heading size\n",
        "## Two hashtags is smaller\n",
        "### Three hashtags\n",
        "#### Four hashtags\n",
        "##### Five hashtags\n",
        "is the same as plain typing\n",
        "###### And six hashtags doesn't make it any smaller\n",
        "\n",
        "---\n",
        "\n",
        "^ three dashes adds a line across the cell to break up text.\n",
        "\n",
        "# Fonts\n",
        "\n",
        "*Sandwiching with one asterisk makes your font italicized.*\n",
        "\n",
        "**Sandwiching with two asterisks makes your font bold.**\n",
        "\n",
        "`Sandwiching with the backtick (found as the lowercase character on the tilda ~ symbol's key), NOT an apostrophe, often used to indicate this is a code snippet.`\n",
        "\n",
        "---\n",
        "\n",
        "# Lists\n",
        "\n",
        "- Use a single dash\n",
        "- to make\n",
        "- a bullet list.\n",
        "\n",
        "\n",
        "- [ ] and add square brackets (with a space between left and right!) \n",
        "- [ ] to make a task you can check off.\n",
        "- [x] Replace the space inside the brackets with an `x` to check off the task!\n"
      ]
    },
    {
      "cell_type": "markdown",
      "metadata": {
        "id": "hREtLlhIfL95",
        "colab_type": "text"
      },
      "source": [
        "# Getting Started: Hello World!"
      ]
    },
    {
      "cell_type": "code",
      "metadata": {
        "id": "F-SFTEvZkhZu",
        "colab_type": "code",
        "colab": {}
      },
      "source": [
        "# This is a Python code cell!\n",
        "# use a hashtag at the beginning of the line to tell the computer to skip over it\n",
        "# this is also known as a \"comment\" in your code.\n",
        "\n",
        "# Make sure to add comments to help you understand your code the next time you look at it!"
      ],
      "execution_count": 0,
      "outputs": []
    },
    {
      "cell_type": "markdown",
      "metadata": {
        "id": "DhbLI56Rnn5t",
        "colab_type": "text"
      },
      "source": [
        "## First, let's discuss variables\n",
        "\n",
        "There are many variable types. A few important types are `integer`, `float`, `string`, `boolean`, and `list`.\n",
        "\n",
        "### Variable Assignment\n",
        "\n",
        "To assign a value of any type to a variable:\n",
        "- pick a variable name that starts with a lowercase letter\n",
        "  - underscores _ and numbers are allowed after the first letter\n",
        "  - examples: `my_variable`, `my_Variable`, `myVariable2`, ..."
      ]
    },
    {
      "cell_type": "markdown",
      "metadata": {
        "id": "yfnVuw4av3RY",
        "colab_type": "text"
      },
      "source": [
        "### Integers and Floats\n",
        "\n",
        "- `integers` are whole numbers (1, 2, 3, 4, 5, ...)\n",
        "- `floats` are numbers that have decimal places (1.2, 3.8, 4.0) even if the decimal places are all 0!"
      ]
    },
    {
      "cell_type": "code",
      "metadata": {
        "id": "utRiFnKMnouj",
        "colab_type": "code",
        "colab": {
          "base_uri": "https://localhost:8080/",
          "height": 34
        },
        "outputId": "6f21dcd3-9b6e-4e47-ae01-941e78cfdb7b"
      },
      "source": [
        "# the variable name goes on the left, the value goes on the right:\n",
        "\n",
        "x = 5   # x is now an integer of value 5.\n",
        "z = 2\n",
        "\n",
        "y = 5.0 # y is now a float (has significant figures in decimal places)\n",
        "\n",
        "\n",
        "# To show the output of a variable or calculation, use a print() statement\n",
        "\n",
        "print(x) # prints the integer 5"
      ],
      "execution_count": 9,
      "outputs": [
        {
          "output_type": "stream",
          "text": [
            "5\n"
          ],
          "name": "stdout"
        }
      ]
    },
    {
      "cell_type": "code",
      "metadata": {
        "id": "zkxeYJFrrhJW",
        "colab_type": "code",
        "colab": {
          "base_uri": "https://localhost:8080/",
          "height": 34
        },
        "outputId": "814c19d3-c5fd-4f44-c0e7-57f937c50de7"
      },
      "source": [
        "# You can use the +, -, *, / symbols for their usual mathematical meaning:\n",
        "print(x+z)\n",
        "\n",
        "# hit `shift` and `enter` keys at the same time to show this output"
      ],
      "execution_count": 11,
      "outputs": [
        {
          "output_type": "stream",
          "text": [
            "7\n"
          ],
          "name": "stdout"
        }
      ]
    },
    {
      "cell_type": "code",
      "metadata": {
        "id": "zi2ZRm88vOyX",
        "colab_type": "code",
        "colab": {}
      },
      "source": [
        "#-----------------------------------------#\n",
        "# Task: assign 3 integers to variables    #\n",
        "#       a, b, and c. Print the output     #\n",
        "#       of all three multiplied together. #\n",
        "#-----------------------------------------#\n",
        "\n",
        "a =   # type an integer between = and # symbols\n",
        "b = \n",
        "c = \n",
        "\n",
        "# now output the product of all three integers using a print statement:"
      ],
      "execution_count": 0,
      "outputs": []
    },
    {
      "cell_type": "markdown",
      "metadata": {
        "id": "_G8BNEw2q-WU",
        "colab_type": "text"
      },
      "source": [
        "##### Click for solution:"
      ]
    },
    {
      "cell_type": "code",
      "metadata": {
        "id": "cwXnYPD-qb6y",
        "colab_type": "code",
        "colab": {
          "base_uri": "https://localhost:8080/",
          "height": 34
        },
        "outputId": "a00f69f5-8f2b-40a9-a8f8-76e8e677e6cc"
      },
      "source": [
        "#-----------------------------------------#\n",
        "# Task: assign 3 integers to variables    #\n",
        "#       a, b, and c. Print the output     #\n",
        "#       of all three multiplied together. #\n",
        "#-----------------------------------------#\n",
        "\n",
        "a = 1  # type an integer between = and # symbols\n",
        "b = 2\n",
        "c = 3\n",
        "\n",
        "# now output the product of all three integers using a print statement:\n",
        "\n",
        "print(a*b*c)"
      ],
      "execution_count": 12,
      "outputs": [
        {
          "output_type": "stream",
          "text": [
            "6\n"
          ],
          "name": "stdout"
        }
      ]
    },
    {
      "cell_type": "markdown",
      "metadata": {
        "id": "tRhuHeqksUMv",
        "colab_type": "text"
      },
      "source": [
        "### Strings\n",
        "\n",
        "- To make a string, use either 'single' quotes or \"double\" quotes around the word you want to assign as a string.\n",
        "\n",
        "- Strings can contain letters, spaces, and numbers\n",
        "\n",
        "- Limited operations can be performed on strings\n",
        "\n"
      ]
    },
    {
      "cell_type": "code",
      "metadata": {
        "id": "q2FgafUdsGhL",
        "colab_type": "code",
        "colab": {}
      },
      "source": [
        "print(\"Hello World!\")\n",
        "\n",
        "first_string = \"This is a string\"\n",
        "\n",
        "#---------------------------------------------------#\n",
        "# Task: Print first_string.                         #\n",
        "# Question: What is the difference                  #\n",
        "#           between printing a string directly vs   #\n",
        "#           printing a string-type variable?        #\n",
        "\n",
        "# Your answer:                                       \n",
        "#---------------------------------------------------#"
      ],
      "execution_count": 0,
      "outputs": []
    },
    {
      "cell_type": "markdown",
      "metadata": {
        "colab_type": "text",
        "id": "CIlzIDU3tLD3"
      },
      "source": [
        "##### Click for solution:"
      ]
    },
    {
      "cell_type": "code",
      "metadata": {
        "colab_type": "code",
        "id": "PFcQGWTwtLD6",
        "colab": {
          "base_uri": "https://localhost:8080/",
          "height": 51
        },
        "outputId": "679717c6-8056-41bf-89c5-2a936f4ed42f"
      },
      "source": [
        "print(\"Hello World!\")\n",
        "\n",
        "first_string = \"This is a string\"\n",
        "\n",
        "print(first_string)\n",
        "#---------------------------------------------------#\n",
        "# Task: Print first_string.                         #\n",
        "# Question: What is the difference                  #\n",
        "#           between printing a string directly vs   #\n",
        "#           printing a variable of type string?     #\n",
        "\n",
        "# Your answer: Printing a string directly, you need \n",
        "#              to make sure you use quotation marks \n",
        "#              around the string to indicate the word \n",
        "#              is a string-type rather than a variable. \n",
        "#              Printing a string type variable, you do \n",
        "#              NOT use quotation marks, so the computer \n",
        "#              knows the print() argument is a variable name.                         \n",
        "#---------------------------------------------------#"
      ],
      "execution_count": 13,
      "outputs": [
        {
          "output_type": "stream",
          "text": [
            "Hello World!\n",
            "This is a string\n"
          ],
          "name": "stdout"
        }
      ]
    },
    {
      "cell_type": "markdown",
      "metadata": {
        "id": "uHM2L-rj0iZU",
        "colab_type": "text"
      },
      "source": [
        "#### Printing multiple variables in one print statement and taking input. "
      ]
    },
    {
      "cell_type": "code",
      "metadata": {
        "id": "ZOAKYu4i0r_F",
        "colab_type": "code",
        "colab": {
          "base_uri": "https://localhost:8080/",
          "height": 51
        },
        "outputId": "c645049f-12dc-4bed-bc9d-38d43da6133d"
      },
      "source": [
        "# Use a comma between variables (strings, integers, floats) to print them side-by-side.\n",
        "\n",
        "print(\"The product of 5*7 is \",5*7,\"!\")\n",
        "\n",
        "some_string = \"another word\"\n",
        "print(\"this is\",some_string)"
      ],
      "execution_count": 20,
      "outputs": [
        {
          "output_type": "stream",
          "text": [
            "The product of 5*7 is  35 !\n",
            "this is another word\n"
          ],
          "name": "stdout"
        }
      ]
    },
    {
      "cell_type": "code",
      "metadata": {
        "id": "qqRFGlWP3jpP",
        "colab_type": "code",
        "colab": {
          "base_uri": "https://localhost:8080/",
          "height": 34
        },
        "outputId": "5043bead-a65f-4c1b-f869-0fb11df16ab9"
      },
      "source": [
        "# remember a number can be a string-type:\n",
        "# you cannot perform math operations reserved for integers and floats on a string.\n",
        "# instead, the string is repeated x times when multiplied by x.\n",
        "\n",
        "some_number_string = \"7\"\n",
        "\n",
        "print(\"The product of 5 * the string\",some_number_string,\" is \",5*some_number_string,\"!\")"
      ],
      "execution_count": 21,
      "outputs": [
        {
          "output_type": "stream",
          "text": [
            "The product of 5 * the string 7  is  77777 !\n"
          ],
          "name": "stdout"
        }
      ]
    },
    {
      "cell_type": "code",
      "metadata": {
        "id": "vmOe2-rk2AUF",
        "colab_type": "code",
        "colab": {
          "base_uri": "https://localhost:8080/",
          "height": 51
        },
        "outputId": "ef85abd5-2e8c-4c7c-ddb7-7ad41c38fd2a"
      },
      "source": [
        "# The function input() takes what is typed from the keyboard, \n",
        "# converts it to a string, and stores it in the defined variable:\n",
        "\n",
        "my_age = input(\"This string prompts the user to type. User, please type your age, then press enter: \")\n",
        "\n",
        "print(\"OK, you are \",my_age,\"years old.\")"
      ],
      "execution_count": 24,
      "outputs": [
        {
          "output_type": "stream",
          "text": [
            "This string prompts the user to type. User, please type your age, then press enter: 3\n",
            "OK, you are  3 years old.\n"
          ],
          "name": "stdout"
        }
      ]
    },
    {
      "cell_type": "markdown",
      "metadata": {
        "id": "fa281LRMy4gL",
        "colab_type": "text"
      },
      "source": [
        "## Short Program: Talking to your computer\n",
        "\n",
        "Goal: write a program in the cell below that interacts with the user by asking the user 3 questions:\n",
        "\n",
        "- What is your name?\n",
        "- What is your age?\n",
        "- What is your favorite color?\n",
        "\n",
        "Make the program output a summary of what it has learned about you after you answer the three questions. For example, if I input Isabel, 21, and gray, the output may be: Your name is Isabel, you are 21, and your favorite color is gray."
      ]
    },
    {
      "cell_type": "code",
      "metadata": {
        "id": "dUljLhDhsZww",
        "colab_type": "code",
        "colab": {}
      },
      "source": [
        "# Write your code here"
      ],
      "execution_count": 0,
      "outputs": []
    },
    {
      "cell_type": "markdown",
      "metadata": {
        "id": "uFIkbuZkzlCn",
        "colab_type": "text"
      },
      "source": [
        "#### Click for potential solution:"
      ]
    },
    {
      "cell_type": "code",
      "metadata": {
        "id": "BVY4tJ8ZzoYL",
        "colab_type": "code",
        "colab": {}
      },
      "source": [
        "# Write your code here\n",
        "\n"
      ],
      "execution_count": 0,
      "outputs": []
    }
  ]
}